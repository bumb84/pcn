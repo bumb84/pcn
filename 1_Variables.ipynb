{
  "nbformat": 4,
  "nbformat_minor": 0,
  "metadata": {
    "colab": {
      "provenance": [],
      "include_colab_link": true
    },
    "kernelspec": {
      "name": "python3",
      "display_name": "Python 3"
    },
    "language_info": {
      "name": "python"
    }
  },
  "cells": [
    {
      "cell_type": "markdown",
      "metadata": {
        "id": "view-in-github",
        "colab_type": "text"
      },
      "source": [
        "<a href=\"https://colab.research.google.com/github/bumb84/pcn/blob/main/1_Variables.ipynb\" target=\"_parent\"><img src=\"https://colab.research.google.com/assets/colab-badge.svg\" alt=\"Open In Colab\"/></a>"
      ]
    },
    {
      "cell_type": "markdown",
      "source": [
        "# 1. Variables\n",
        "\n",
        "In this section we'll have a practical activity to work on the concept of **variables** in Python."
      ],
      "metadata": {
        "id": "dtd0ipHoMk84"
      }
    },
    {
      "cell_type": "markdown",
      "source": [
        "## Exercise 1\n",
        "\n",
        "Create variables to store the following information about a fictitious person:\n",
        "\n",
        "- nome,\n",
        "- apelido,\n",
        "- idade,\n",
        "- altura (metros),\n",
        "- freguesia,\n",
        "- licenciatura,\n",
        "- lista de UCs que está cursando,\n",
        "- a resposta à pergunta: gostaria de ser programador? (True/False),\n",
        "- classificação final desejada em PCN.\n",
        "\n",
        "**NOTE**: You can consider your data if you prefer."
      ],
      "metadata": {
        "id": "YpmXz95vNayQ"
      }
    },
    {
      "cell_type": "markdown",
      "source": [
        "## Exercise 2\n",
        "\n",
        "Create new variables for the other two people.\n",
        "\n",
        "**NOTE**: You can share and retrieve the variable content with your colleagues"
      ],
      "metadata": {
        "id": "mtiHtB4wPUqw"
      }
    },
    {
      "cell_type": "code",
      "source": [
        "# Answer below\n",
        "nome=\"carvalho\"\n",
        "idade= 34\n",
        "altura=1.70\n",
        "freguesia=\"larageiro\"\n",
        "licenciatura=\"Eng civil\"\n",
        "Ucs=[\"PCN\",\"RM2\",\"Probabilidade\"]\n",
        "Nota_final=16\n"
      ],
      "metadata": {
        "id": "ndBSKL6wP5q5"
      },
      "execution_count": 3,
      "outputs": []
    },
    {
      "cell_type": "markdown",
      "source": [
        "## Exercise 3\n",
        "\n",
        "Set up a tuple with all the variables associated with a person.\n",
        "\n",
        "Repeat this process for other people."
      ],
      "metadata": {
        "id": "4AEkHBMdQB7o"
      }
    },
    {
      "cell_type": "code",
      "source": [
        "# Answer below\n",
        "possoa1=(nome,idade,altura,freguesia,licenciatura,Ucs,Nota_final)"
      ],
      "metadata": {
        "id": "M9QBD3LFVDXw"
      },
      "execution_count": 9,
      "outputs": []
    },
    {
      "cell_type": "markdown",
      "source": [
        "## Exercise 4\n",
        "\n",
        "Using the `print` function, show all information about each people, follow the message pattern below:\n",
        "\n",
        "```python\n",
        "Nome completo: Natanael Quintino\n",
        "Idade: 34 anos\n",
        "Altura: 1.70\n",
        "Freguesia: Corroios\n",
        "Licenciatura: Matemática\n",
        "UCs: [Métodos Computacionais, Programação e Computação Numérica]\n",
        "Desejo de ser programador: True\n",
        "Nota esperada em PCN: 20\n",
        "```"
      ],
      "metadata": {
        "id": "nDIBEbchVRck"
      }
    },
    {
      "cell_type": "code",
      "source": [
        "# Answer below\n",
        "print(\"Nome completo:\", nome,)"
      ],
      "metadata": {
        "id": "hjduFCOtYjG-",
        "outputId": "8987fb34-f31e-485d-d204-7d8c771f7392",
        "colab": {
          "base_uri": "https://localhost:8080/"
        }
      },
      "execution_count": 10,
      "outputs": [
        {
          "output_type": "stream",
          "name": "stdout",
          "text": [
            "Nome completo: carvalho\n"
          ]
        }
      ]
    },
    {
      "cell_type": "markdown",
      "source": [
        "## Exercise 5\n",
        "\n",
        "Put all the people's data in a list with the name **utentes**.\n",
        "\n"
      ],
      "metadata": {
        "id": "RmRWVmGnYMKg"
      }
    },
    {
      "cell_type": "code",
      "source": [
        "# Answer below"
      ],
      "metadata": {
        "id": "RqwsvmiQYlMr"
      },
      "execution_count": null,
      "outputs": []
    },
    {
      "cell_type": "markdown",
      "source": [
        "## Final Exercise\n",
        "\n",
        "Follow the next steps:\n",
        "\n",
        "1. Faça a coleta dos dados de uma nova pessoa, de maneira interativa utilizando a função `input` do Python. (Olhar Seção 8 do material [pythonOverview](https://colab.research.google.com/drive/1nx18fXeVbGBmR3kRVnazXhri5kxXODbu?usp=sharing))\n",
        "2. Exiba as informações desta nova pessoa com o padrão do Exercício 4.\n",
        "3. Crie uma tupla, de nome **novoUtente**, com os dados recolhidos deste novo utente.\n",
        "4. Adicione a tupla **novoUtente** à lista **utentes**.\n"
      ],
      "metadata": {
        "id": "C8sQfI26VGnP"
      }
    }
  ]
}